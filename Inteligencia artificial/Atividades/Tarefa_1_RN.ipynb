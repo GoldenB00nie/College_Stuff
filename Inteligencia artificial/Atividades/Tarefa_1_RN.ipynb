{
  "cells": [
    {
      "cell_type": "markdown",
      "metadata": {},
      "source": [
        "## NOMES:\n",
        "\n",
        "# ALLAN SAMUEL ALVES DO MONTE\n",
        "# GUILHERME DE OLIVEIRA PORTAS\n",
        "# THIAGO DELLANO"
      ]
    },
    {
      "cell_type": "markdown",
      "metadata": {
        "id": "JbLj-OUKojSL"
      },
      "source": [
        "# **Objetivo: criar uma rede neural simples usando Keras para uma tarefa de classificação binária**"
      ]
    },
    {
      "cell_type": "markdown",
      "metadata": {
        "id": "c3pOyaANmimQ"
      },
      "source": [
        " # **Importação dos Dados e Processamento**\n"
      ]
    },
    {
      "cell_type": "markdown",
      "metadata": {
        "id": "GAd5BOpNn1yb"
      },
      "source": [
        "O conjunto de dados que será utilizado aqui é: \"**Pima Indians Diabetes Dataset**\". Ele pode ser baixado de: https://raw.githubusercontent.com/jbrownlee/Datasets/master/pima-indians-diabetes.csv\n",
        "\n",
        "Este é um problema de classificação binária (2 classes). No conjunto de dados existem 768 observações com 8 variáveis de entrada e 1 variável de saída.\n",
        "\n",
        "Os nomes das variáveis são os seguintes:\n",
        "\n",
        "**1. Número de vezes grávida.**\n",
        "\n",
        "**2. Concentração de glicose plasmática após 2 horas em um teste oral de tolerância à glicose.**\n",
        "\n",
        "**3. Pressão arterial diastólica (mm Hg).**\n",
        "\n",
        "**4. Espessura da prega cutânea do tríceps (mm).**\n",
        "\n",
        "**5. Insulina sérica em 2 horas (mu U/ml).**\n",
        "\n",
        "**6. Índice de massa corporal (peso em kg/(altura em m)^2).**\n",
        "\n",
        "**7. Função pedigree para diabetes.**\n",
        "\n",
        "**8. Idade (anos).**\n",
        "\n",
        "**9. Variável de classe (0 ou 1).**"
      ]
    },
    {
      "cell_type": "markdown",
      "metadata": {
        "id": "vMaCoznbICMn"
      },
      "source": [
        "---\n",
        "Importe as bibliotecas necessárias"
      ]
    },
    {
      "cell_type": "code",
      "execution_count": 2,
      "metadata": {
        "id": "mwGyz6EwSRk5"
      },
      "outputs": [],
      "source": [
        "import numpy as np\n",
        "from sklearn.model_selection import train_test_split"
      ]
    },
    {
      "cell_type": "markdown",
      "metadata": {
        "id": "V7YExT7uHx0I"
      },
      "source": [
        "---\n",
        "Importe e visualize detalhes dos dados usando os comandos `np.loadtext('nome do arquivo', delimiter=',')` e `np.shape(...)`"
      ]
    },
    {
      "cell_type": "code",
      "execution_count": 3,
      "metadata": {
        "id": "-n1H04B-dX7O"
      },
      "outputs": [
        {
          "name": "stdout",
          "output_type": "stream",
          "text": [
            "Dimensões do dataset(linhas, colunas):  (768, 9)\n"
          ]
        }
      ],
      "source": [
        "# Carregando o dataset e pulando a primeira linha (cabeçalho)\n",
        "data = np.loadtxt('diabetes.csv', delimiter=',', skiprows=1)\n",
        "\n",
        "# Visualizando as dimensões do dataset\n",
        "print(\"Dimensões do dataset(linhas, colunas): \",np.shape(data))"
      ]
    },
    {
      "cell_type": "markdown",
      "metadata": {
        "id": "gpi9uw4hIfvG"
      },
      "source": [
        "---\n",
        "Crie vetores `X_data` e `Y_data` para separar os 8 features, que são as entradas, e a única saída"
      ]
    },
    {
      "cell_type": "code",
      "execution_count": 4,
      "metadata": {
        "id": "a9-HDmIddX5M"
      },
      "outputs": [],
      "source": [
        "X_data = data[:, 0:8]\n",
        "Y_data = data[:, 8]"
      ]
    },
    {
      "cell_type": "markdown",
      "metadata": {
        "id": "3aSA0h6tJR5m"
      },
      "source": [
        "---\n",
        "Separe os dados de treino e de teste usando o comando `train_test_split()`"
      ]
    },
    {
      "cell_type": "code",
      "execution_count": 5,
      "metadata": {
        "id": "re5mYzfAdX2R"
      },
      "outputs": [
        {
          "name": "stdout",
          "output_type": "stream",
          "text": [
            "Dimensões de X_train (treinamento): (576, 8)\n",
            "Dimensões de X_test (teste): (192, 8)\n",
            "Dimensões de y_train (treinamento): (576,)\n",
            "Dimensões de y_test (teste): (192,)\n"
          ]
        }
      ],
      "source": [
        "X_train, X_test, y_train, y_test = train_test_split(X_data, Y_data, test_size=0.25, random_state=42)\n",
        "\n",
        "# Imprimindo as dimensões dos novos conjuntos para confirmação\n",
        "print(f\"Dimensões de X_train (treinamento): {X_train.shape}\")\n",
        "print(f\"Dimensões de X_test (teste): {X_test.shape}\")\n",
        "print(f\"Dimensões de y_train (treinamento): {y_train.shape}\")\n",
        "print(f\"Dimensões de y_test (teste): {y_test.shape}\")"
      ]
    },
    {
      "cell_type": "markdown",
      "metadata": {
        "id": "g7MjUdFEJW3q"
      },
      "source": [
        "---\n",
        "Verifique a dimensão do conjunto de treino e teste"
      ]
    },
    {
      "cell_type": "markdown",
      "metadata": {},
      "source": [
        "- X_train: (576, 8) → 576 amostras de treino, cada uma com 8 variáveis.\n",
        "\n",
        "- X_test: (192, 8) → 192 amostras de teste.\n",
        "\n",
        "- y_train: (576,) → 576 rótulos (saídas).\n",
        "\n",
        "- y_test: (192,) → 192 rótulos."
      ]
    },
    {
      "cell_type": "markdown",
      "metadata": {
        "id": "5hDbfl4qm5Iq"
      },
      "source": [
        "# **Construa o Modelo**"
      ]
    },
    {
      "cell_type": "markdown",
      "metadata": {
        "id": "GlF2bfnrJqrU"
      },
      "source": [
        "---\n",
        "Crie o seu modelo"
      ]
    },
    {
      "cell_type": "markdown",
      "metadata": {
        "id": "JpycNJb0JswJ"
      },
      "source": [
        "---\n",
        "Adicione as camadas: lembrando que a primeira camada recebe como entrada um vetor no $\\mathbb{R}^8$."
      ]
    },
    {
      "cell_type": "code",
      "execution_count": 6,
      "metadata": {
        "id": "1uhibQNlWsPU"
      },
      "outputs": [
        {
          "name": "stderr",
          "output_type": "stream",
          "text": [
            "c:\\Users\\guilh\\Documents\\College_Stuff\\Inteligencia artificial\\Atividades\\Lib\\site-packages\\keras\\src\\layers\\core\\dense.py:92: UserWarning: Do not pass an `input_shape`/`input_dim` argument to a layer. When using Sequential models, prefer using an `Input(shape)` object as the first layer in the model instead.\n",
            "  super().__init__(activity_regularizer=activity_regularizer, **kwargs)\n"
          ]
        }
      ],
      "source": [
        "from tensorflow.keras.models import Sequential\n",
        "from tensorflow.keras.layers import Dense\n",
        "\n",
        "# Carregar dataset (pula cabeçalho)\n",
        "dados = np.loadtxt('diabetes.csv', delimiter=',', skiprows=1)\n",
        "\n",
        "# Separar X (features) e Y (labels)\n",
        "X_data = dados[:, 0:8] #seleciona todas as linhas (:) e as colunas 0 a 7 (features, variáveis de entrada).\n",
        "Y_data = dados[:, 8]  #seleciona todas as linhas da coluna 8 (target ou label, resultado que queremos prever).\n",
        "\n",
        "# Dividir em treino e teste\n",
        "X_train, X_test, Y_train, Y_test = train_test_split(X_data, Y_data, test_size=0.2, random_state=42)\n",
        "\n",
        "# Criar modelo da rede neural\n",
        "modelo = Sequential([\n",
        "    Dense(16, input_dim=8, activation='relu'),  # camada de entrada (R^8 → R^16)\n",
        "    Dense(12, activation='relu'),               # camada oculta 1\n",
        "    Dense(8, activation='relu'),                # camada oculta 2\n",
        "    Dense(1, activation='sigmoid')              # saída binária\n",
        "])\n"
      ]
    },
    {
      "cell_type": "markdown",
      "metadata": {
        "id": "MEiinWLiJ_7b"
      },
      "source": [
        "---\n",
        "Compile o modelo escolhendo a função de perda e o otimizador."
      ]
    },
    {
      "cell_type": "code",
      "execution_count": 7,
      "metadata": {
        "id": "1_pihhdiTlHR"
      },
      "outputs": [],
      "source": [
        "# Compilar modelo\n",
        "modelo.compile(\n",
        "    loss='binary_crossentropy',  # função de perda\n",
        "    optimizer='adam',            # otimizador\n",
        "    metrics=['accuracy']         # métrica\n",
        ")\n"
      ]
    },
    {
      "cell_type": "markdown",
      "metadata": {
        "id": "1u-JSWmXnAqf"
      },
      "source": [
        "# **Treine e Teste**"
      ]
    },
    {
      "cell_type": "code",
      "execution_count": 8,
      "metadata": {
        "id": "GvTzUK7OasqW"
      },
      "outputs": [
        {
          "name": "stdout",
          "output_type": "stream",
          "text": [
            "Epoch 1/100\n",
            "\u001b[1m62/62\u001b[0m \u001b[32m━━━━━━━━━━━━━━━━━━━━\u001b[0m\u001b[37m\u001b[0m \u001b[1m1s\u001b[0m 4ms/step - accuracy: 0.5261 - loss: 3.1105 - val_accuracy: 0.5325 - val_loss: 1.0583\n",
            "Epoch 2/100\n",
            "\u001b[1m62/62\u001b[0m \u001b[32m━━━━━━━━━━━━━━━━━━━━\u001b[0m\u001b[37m\u001b[0m \u001b[1m0s\u001b[0m 2ms/step - accuracy: 0.5831 - loss: 0.8476 - val_accuracy: 0.6104 - val_loss: 0.7662\n",
            "Epoch 3/100\n",
            "\u001b[1m62/62\u001b[0m \u001b[32m━━━━━━━━━━━━━━━━━━━━\u001b[0m\u001b[37m\u001b[0m \u001b[1m0s\u001b[0m 2ms/step - accuracy: 0.6173 - loss: 0.7465 - val_accuracy: 0.6818 - val_loss: 0.7093\n",
            "Epoch 4/100\n",
            "\u001b[1m62/62\u001b[0m \u001b[32m━━━━━━━━━━━━━━━━━━━━\u001b[0m\u001b[37m\u001b[0m \u001b[1m0s\u001b[0m 2ms/step - accuracy: 0.6173 - loss: 0.7192 - val_accuracy: 0.6429 - val_loss: 0.7325\n",
            "Epoch 5/100\n",
            "\u001b[1m62/62\u001b[0m \u001b[32m━━━━━━━━━━━━━━━━━━━━\u001b[0m\u001b[37m\u001b[0m \u001b[1m0s\u001b[0m 2ms/step - accuracy: 0.6352 - loss: 0.6902 - val_accuracy: 0.6429 - val_loss: 0.7266\n",
            "Epoch 6/100\n",
            "\u001b[1m62/62\u001b[0m \u001b[32m━━━━━━━━━━━━━━━━━━━━\u001b[0m\u001b[37m\u001b[0m \u001b[1m0s\u001b[0m 2ms/step - accuracy: 0.6238 - loss: 0.6773 - val_accuracy: 0.6494 - val_loss: 0.7040\n",
            "Epoch 7/100\n",
            "\u001b[1m62/62\u001b[0m \u001b[32m━━━━━━━━━━━━━━━━━━━━\u001b[0m\u001b[37m\u001b[0m \u001b[1m0s\u001b[0m 2ms/step - accuracy: 0.6482 - loss: 0.6620 - val_accuracy: 0.6429 - val_loss: 0.7015\n",
            "Epoch 8/100\n",
            "\u001b[1m62/62\u001b[0m \u001b[32m━━━━━━━━━━━━━━━━━━━━\u001b[0m\u001b[37m\u001b[0m \u001b[1m0s\u001b[0m 2ms/step - accuracy: 0.6384 - loss: 0.6499 - val_accuracy: 0.6494 - val_loss: 0.6661\n",
            "Epoch 9/100\n",
            "\u001b[1m62/62\u001b[0m \u001b[32m━━━━━━━━━━━━━━━━━━━━\u001b[0m\u001b[37m\u001b[0m \u001b[1m0s\u001b[0m 2ms/step - accuracy: 0.6352 - loss: 0.6426 - val_accuracy: 0.6753 - val_loss: 0.6303\n",
            "Epoch 10/100\n",
            "\u001b[1m62/62\u001b[0m \u001b[32m━━━━━━━━━━━━━━━━━━━━\u001b[0m\u001b[37m\u001b[0m \u001b[1m0s\u001b[0m 2ms/step - accuracy: 0.6580 - loss: 0.6595 - val_accuracy: 0.6299 - val_loss: 0.7584\n",
            "Epoch 11/100\n",
            "\u001b[1m62/62\u001b[0m \u001b[32m━━━━━━━━━━━━━━━━━━━━\u001b[0m\u001b[37m\u001b[0m \u001b[1m0s\u001b[0m 2ms/step - accuracy: 0.6580 - loss: 0.6353 - val_accuracy: 0.7013 - val_loss: 0.6109\n",
            "Epoch 12/100\n",
            "\u001b[1m62/62\u001b[0m \u001b[32m━━━━━━━━━━━━━━━━━━━━\u001b[0m\u001b[37m\u001b[0m \u001b[1m0s\u001b[0m 2ms/step - accuracy: 0.6498 - loss: 0.6335 - val_accuracy: 0.6818 - val_loss: 0.6131\n",
            "Epoch 13/100\n",
            "\u001b[1m62/62\u001b[0m \u001b[32m━━━━━━━━━━━━━━━━━━━━\u001b[0m\u001b[37m\u001b[0m \u001b[1m0s\u001b[0m 2ms/step - accuracy: 0.6726 - loss: 0.6075 - val_accuracy: 0.6494 - val_loss: 0.6570\n",
            "Epoch 14/100\n",
            "\u001b[1m62/62\u001b[0m \u001b[32m━━━━━━━━━━━━━━━━━━━━\u001b[0m\u001b[37m\u001b[0m \u001b[1m0s\u001b[0m 2ms/step - accuracy: 0.6678 - loss: 0.6082 - val_accuracy: 0.6818 - val_loss: 0.6105\n",
            "Epoch 15/100\n",
            "\u001b[1m62/62\u001b[0m \u001b[32m━━━━━━━━━━━━━━━━━━━━\u001b[0m\u001b[37m\u001b[0m \u001b[1m0s\u001b[0m 2ms/step - accuracy: 0.6694 - loss: 0.6091 - val_accuracy: 0.6818 - val_loss: 0.6188\n",
            "Epoch 16/100\n",
            "\u001b[1m62/62\u001b[0m \u001b[32m━━━━━━━━━━━━━━━━━━━━\u001b[0m\u001b[37m\u001b[0m \u001b[1m0s\u001b[0m 2ms/step - accuracy: 0.6710 - loss: 0.6039 - val_accuracy: 0.7208 - val_loss: 0.6042\n",
            "Epoch 17/100\n",
            "\u001b[1m62/62\u001b[0m \u001b[32m━━━━━━━━━━━━━━━━━━━━\u001b[0m\u001b[37m\u001b[0m \u001b[1m0s\u001b[0m 3ms/step - accuracy: 0.6515 - loss: 0.6061 - val_accuracy: 0.6558 - val_loss: 0.6283\n",
            "Epoch 18/100\n",
            "\u001b[1m62/62\u001b[0m \u001b[32m━━━━━━━━━━━━━━━━━━━━\u001b[0m\u001b[37m\u001b[0m \u001b[1m0s\u001b[0m 3ms/step - accuracy: 0.6808 - loss: 0.6029 - val_accuracy: 0.6494 - val_loss: 0.6440\n",
            "Epoch 19/100\n",
            "\u001b[1m62/62\u001b[0m \u001b[32m━━━━━━━━━━━━━━━━━━━━\u001b[0m\u001b[37m\u001b[0m \u001b[1m0s\u001b[0m 3ms/step - accuracy: 0.6726 - loss: 0.6013 - val_accuracy: 0.7143 - val_loss: 0.5940\n",
            "Epoch 20/100\n",
            "\u001b[1m62/62\u001b[0m \u001b[32m━━━━━━━━━━━━━━━━━━━━\u001b[0m\u001b[37m\u001b[0m \u001b[1m0s\u001b[0m 2ms/step - accuracy: 0.6873 - loss: 0.6068 - val_accuracy: 0.7078 - val_loss: 0.5850\n",
            "Epoch 21/100\n",
            "\u001b[1m62/62\u001b[0m \u001b[32m━━━━━━━━━━━━━━━━━━━━\u001b[0m\u001b[37m\u001b[0m \u001b[1m0s\u001b[0m 2ms/step - accuracy: 0.6726 - loss: 0.5907 - val_accuracy: 0.7078 - val_loss: 0.5923\n",
            "Epoch 22/100\n",
            "\u001b[1m62/62\u001b[0m \u001b[32m━━━━━━━━━━━━━━━━━━━━\u001b[0m\u001b[37m\u001b[0m \u001b[1m0s\u001b[0m 2ms/step - accuracy: 0.6840 - loss: 0.5945 - val_accuracy: 0.6818 - val_loss: 0.6065\n",
            "Epoch 23/100\n",
            "\u001b[1m62/62\u001b[0m \u001b[32m━━━━━━━━━━━━━━━━━━━━\u001b[0m\u001b[37m\u001b[0m \u001b[1m0s\u001b[0m 2ms/step - accuracy: 0.6840 - loss: 0.5903 - val_accuracy: 0.6753 - val_loss: 0.6167\n",
            "Epoch 24/100\n",
            "\u001b[1m62/62\u001b[0m \u001b[32m━━━━━━━━━━━━━━━━━━━━\u001b[0m\u001b[37m\u001b[0m \u001b[1m0s\u001b[0m 3ms/step - accuracy: 0.6906 - loss: 0.5815 - val_accuracy: 0.7013 - val_loss: 0.5903\n",
            "Epoch 25/100\n",
            "\u001b[1m62/62\u001b[0m \u001b[32m━━━━━━━━━━━━━━━━━━━━\u001b[0m\u001b[37m\u001b[0m \u001b[1m0s\u001b[0m 2ms/step - accuracy: 0.6938 - loss: 0.5709 - val_accuracy: 0.6623 - val_loss: 0.6118\n",
            "Epoch 26/100\n",
            "\u001b[1m62/62\u001b[0m \u001b[32m━━━━━━━━━━━━━━━━━━━━\u001b[0m\u001b[37m\u001b[0m \u001b[1m0s\u001b[0m 3ms/step - accuracy: 0.7020 - loss: 0.5721 - val_accuracy: 0.7273 - val_loss: 0.5868\n",
            "Epoch 27/100\n",
            "\u001b[1m62/62\u001b[0m \u001b[32m━━━━━━━━━━━━━━━━━━━━\u001b[0m\u001b[37m\u001b[0m \u001b[1m0s\u001b[0m 2ms/step - accuracy: 0.6710 - loss: 0.5873 - val_accuracy: 0.7078 - val_loss: 0.5860\n",
            "Epoch 28/100\n",
            "\u001b[1m62/62\u001b[0m \u001b[32m━━━━━━━━━━━━━━━━━━━━\u001b[0m\u001b[37m\u001b[0m \u001b[1m0s\u001b[0m 2ms/step - accuracy: 0.7052 - loss: 0.5735 - val_accuracy: 0.6818 - val_loss: 0.6157\n",
            "Epoch 29/100\n",
            "\u001b[1m62/62\u001b[0m \u001b[32m━━━━━━━━━━━━━━━━━━━━\u001b[0m\u001b[37m\u001b[0m \u001b[1m0s\u001b[0m 3ms/step - accuracy: 0.6954 - loss: 0.5683 - val_accuracy: 0.7013 - val_loss: 0.5985\n",
            "Epoch 30/100\n",
            "\u001b[1m62/62\u001b[0m \u001b[32m━━━━━━━━━━━━━━━━━━━━\u001b[0m\u001b[37m\u001b[0m \u001b[1m0s\u001b[0m 3ms/step - accuracy: 0.7068 - loss: 0.5691 - val_accuracy: 0.6818 - val_loss: 0.6015\n",
            "Epoch 31/100\n",
            "\u001b[1m62/62\u001b[0m \u001b[32m━━━━━━━━━━━━━━━━━━━━\u001b[0m\u001b[37m\u001b[0m \u001b[1m0s\u001b[0m 2ms/step - accuracy: 0.7085 - loss: 0.5491 - val_accuracy: 0.6948 - val_loss: 0.5918\n",
            "Epoch 32/100\n",
            "\u001b[1m62/62\u001b[0m \u001b[32m━━━━━━━━━━━━━━━━━━━━\u001b[0m\u001b[37m\u001b[0m \u001b[1m0s\u001b[0m 2ms/step - accuracy: 0.6954 - loss: 0.5630 - val_accuracy: 0.7013 - val_loss: 0.5847\n",
            "Epoch 33/100\n",
            "\u001b[1m62/62\u001b[0m \u001b[32m━━━━━━━━━━━━━━━━━━━━\u001b[0m\u001b[37m\u001b[0m \u001b[1m0s\u001b[0m 2ms/step - accuracy: 0.7052 - loss: 0.5578 - val_accuracy: 0.7078 - val_loss: 0.5863\n",
            "Epoch 34/100\n",
            "\u001b[1m62/62\u001b[0m \u001b[32m━━━━━━━━━━━━━━━━━━━━\u001b[0m\u001b[37m\u001b[0m \u001b[1m0s\u001b[0m 2ms/step - accuracy: 0.7166 - loss: 0.5507 - val_accuracy: 0.6558 - val_loss: 0.6132\n",
            "Epoch 35/100\n",
            "\u001b[1m62/62\u001b[0m \u001b[32m━━━━━━━━━━━━━━━━━━━━\u001b[0m\u001b[37m\u001b[0m \u001b[1m0s\u001b[0m 2ms/step - accuracy: 0.7085 - loss: 0.5617 - val_accuracy: 0.7078 - val_loss: 0.5992\n",
            "Epoch 36/100\n",
            "\u001b[1m62/62\u001b[0m \u001b[32m━━━━━━━━━━━━━━━━━━━━\u001b[0m\u001b[37m\u001b[0m \u001b[1m0s\u001b[0m 2ms/step - accuracy: 0.7182 - loss: 0.5551 - val_accuracy: 0.7013 - val_loss: 0.5962\n",
            "Epoch 37/100\n",
            "\u001b[1m62/62\u001b[0m \u001b[32m━━━━━━━━━━━━━━━━━━━━\u001b[0m\u001b[37m\u001b[0m \u001b[1m0s\u001b[0m 2ms/step - accuracy: 0.7199 - loss: 0.5470 - val_accuracy: 0.6688 - val_loss: 0.6029\n",
            "Epoch 38/100\n",
            "\u001b[1m62/62\u001b[0m \u001b[32m━━━━━━━━━━━━━━━━━━━━\u001b[0m\u001b[37m\u001b[0m \u001b[1m0s\u001b[0m 2ms/step - accuracy: 0.7182 - loss: 0.5404 - val_accuracy: 0.7273 - val_loss: 0.5841\n",
            "Epoch 39/100\n",
            "\u001b[1m62/62\u001b[0m \u001b[32m━━━━━━━━━━━━━━━━━━━━\u001b[0m\u001b[37m\u001b[0m \u001b[1m0s\u001b[0m 2ms/step - accuracy: 0.7215 - loss: 0.5556 - val_accuracy: 0.7078 - val_loss: 0.5872\n",
            "Epoch 40/100\n",
            "\u001b[1m62/62\u001b[0m \u001b[32m━━━━━━━━━━━━━━━━━━━━\u001b[0m\u001b[37m\u001b[0m \u001b[1m0s\u001b[0m 2ms/step - accuracy: 0.7117 - loss: 0.5416 - val_accuracy: 0.6558 - val_loss: 0.6307\n",
            "Epoch 41/100\n",
            "\u001b[1m62/62\u001b[0m \u001b[32m━━━━━━━━━━━━━━━━━━━━\u001b[0m\u001b[37m\u001b[0m \u001b[1m0s\u001b[0m 2ms/step - accuracy: 0.7199 - loss: 0.5456 - val_accuracy: 0.6818 - val_loss: 0.6239\n",
            "Epoch 42/100\n",
            "\u001b[1m62/62\u001b[0m \u001b[32m━━━━━━━━━━━━━━━━━━━━\u001b[0m\u001b[37m\u001b[0m \u001b[1m0s\u001b[0m 2ms/step - accuracy: 0.7134 - loss: 0.5419 - val_accuracy: 0.6818 - val_loss: 0.6137\n",
            "Epoch 43/100\n",
            "\u001b[1m62/62\u001b[0m \u001b[32m━━━━━━━━━━━━━━━━━━━━\u001b[0m\u001b[37m\u001b[0m \u001b[1m0s\u001b[0m 2ms/step - accuracy: 0.7199 - loss: 0.5442 - val_accuracy: 0.7143 - val_loss: 0.6064\n",
            "Epoch 44/100\n",
            "\u001b[1m62/62\u001b[0m \u001b[32m━━━━━━━━━━━━━━━━━━━━\u001b[0m\u001b[37m\u001b[0m \u001b[1m0s\u001b[0m 2ms/step - accuracy: 0.7068 - loss: 0.5397 - val_accuracy: 0.6883 - val_loss: 0.6147\n",
            "Epoch 45/100\n",
            "\u001b[1m62/62\u001b[0m \u001b[32m━━━━━━━━━━━━━━━━━━━━\u001b[0m\u001b[37m\u001b[0m \u001b[1m0s\u001b[0m 2ms/step - accuracy: 0.7199 - loss: 0.5349 - val_accuracy: 0.7143 - val_loss: 0.5810\n",
            "Epoch 46/100\n",
            "\u001b[1m62/62\u001b[0m \u001b[32m━━━━━━━━━━━━━━━━━━━━\u001b[0m\u001b[37m\u001b[0m \u001b[1m0s\u001b[0m 2ms/step - accuracy: 0.7427 - loss: 0.5399 - val_accuracy: 0.7078 - val_loss: 0.5900\n",
            "Epoch 47/100\n",
            "\u001b[1m62/62\u001b[0m \u001b[32m━━━━━━━━━━━━━━━━━━━━\u001b[0m\u001b[37m\u001b[0m \u001b[1m0s\u001b[0m 2ms/step - accuracy: 0.7182 - loss: 0.5350 - val_accuracy: 0.7338 - val_loss: 0.5820\n",
            "Epoch 48/100\n",
            "\u001b[1m62/62\u001b[0m \u001b[32m━━━━━━━━━━━━━━━━━━━━\u001b[0m\u001b[37m\u001b[0m \u001b[1m0s\u001b[0m 2ms/step - accuracy: 0.7476 - loss: 0.5375 - val_accuracy: 0.7013 - val_loss: 0.5928\n",
            "Epoch 49/100\n",
            "\u001b[1m62/62\u001b[0m \u001b[32m━━━━━━━━━━━━━━━━━━━━\u001b[0m\u001b[37m\u001b[0m \u001b[1m0s\u001b[0m 2ms/step - accuracy: 0.7410 - loss: 0.5422 - val_accuracy: 0.7273 - val_loss: 0.5823\n",
            "Epoch 50/100\n",
            "\u001b[1m62/62\u001b[0m \u001b[32m━━━━━━━━━━━━━━━━━━━━\u001b[0m\u001b[37m\u001b[0m \u001b[1m0s\u001b[0m 2ms/step - accuracy: 0.7427 - loss: 0.5328 - val_accuracy: 0.6558 - val_loss: 0.6455\n",
            "Epoch 51/100\n",
            "\u001b[1m62/62\u001b[0m \u001b[32m━━━━━━━━━━━━━━━━━━━━\u001b[0m\u001b[37m\u001b[0m \u001b[1m0s\u001b[0m 2ms/step - accuracy: 0.7394 - loss: 0.5246 - val_accuracy: 0.7013 - val_loss: 0.5993\n",
            "Epoch 52/100\n",
            "\u001b[1m62/62\u001b[0m \u001b[32m━━━━━━━━━━━━━━━━━━━━\u001b[0m\u001b[37m\u001b[0m \u001b[1m0s\u001b[0m 2ms/step - accuracy: 0.7231 - loss: 0.5335 - val_accuracy: 0.6818 - val_loss: 0.6240\n",
            "Epoch 53/100\n",
            "\u001b[1m62/62\u001b[0m \u001b[32m━━━━━━━━━━━━━━━━━━━━\u001b[0m\u001b[37m\u001b[0m \u001b[1m0s\u001b[0m 2ms/step - accuracy: 0.7280 - loss: 0.5274 - val_accuracy: 0.7208 - val_loss: 0.5805\n",
            "Epoch 54/100\n",
            "\u001b[1m62/62\u001b[0m \u001b[32m━━━━━━━━━━━━━━━━━━━━\u001b[0m\u001b[37m\u001b[0m \u001b[1m0s\u001b[0m 2ms/step - accuracy: 0.7541 - loss: 0.5300 - val_accuracy: 0.6883 - val_loss: 0.6445\n",
            "Epoch 55/100\n",
            "\u001b[1m62/62\u001b[0m \u001b[32m━━━━━━━━━━━━━━━━━━━━\u001b[0m\u001b[37m\u001b[0m \u001b[1m0s\u001b[0m 2ms/step - accuracy: 0.7068 - loss: 0.5377 - val_accuracy: 0.7078 - val_loss: 0.6083\n",
            "Epoch 56/100\n",
            "\u001b[1m62/62\u001b[0m \u001b[32m━━━━━━━━━━━━━━━━━━━━\u001b[0m\u001b[37m\u001b[0m \u001b[1m0s\u001b[0m 2ms/step - accuracy: 0.7394 - loss: 0.5237 - val_accuracy: 0.6688 - val_loss: 0.6360\n",
            "Epoch 57/100\n",
            "\u001b[1m62/62\u001b[0m \u001b[32m━━━━━━━━━━━━━━━━━━━━\u001b[0m\u001b[37m\u001b[0m \u001b[1m0s\u001b[0m 2ms/step - accuracy: 0.7296 - loss: 0.5401 - val_accuracy: 0.7338 - val_loss: 0.5777\n",
            "Epoch 58/100\n",
            "\u001b[1m62/62\u001b[0m \u001b[32m━━━━━━━━━━━━━━━━━━━━\u001b[0m\u001b[37m\u001b[0m \u001b[1m0s\u001b[0m 2ms/step - accuracy: 0.7492 - loss: 0.5164 - val_accuracy: 0.7338 - val_loss: 0.5741\n",
            "Epoch 59/100\n",
            "\u001b[1m62/62\u001b[0m \u001b[32m━━━━━━━━━━━━━━━━━━━━\u001b[0m\u001b[37m\u001b[0m \u001b[1m0s\u001b[0m 2ms/step - accuracy: 0.7410 - loss: 0.5185 - val_accuracy: 0.6883 - val_loss: 0.6125\n",
            "Epoch 60/100\n",
            "\u001b[1m62/62\u001b[0m \u001b[32m━━━━━━━━━━━━━━━━━━━━\u001b[0m\u001b[37m\u001b[0m \u001b[1m0s\u001b[0m 2ms/step - accuracy: 0.7150 - loss: 0.5313 - val_accuracy: 0.7338 - val_loss: 0.5812\n",
            "Epoch 61/100\n",
            "\u001b[1m62/62\u001b[0m \u001b[32m━━━━━━━━━━━━━━━━━━━━\u001b[0m\u001b[37m\u001b[0m \u001b[1m0s\u001b[0m 2ms/step - accuracy: 0.7508 - loss: 0.5186 - val_accuracy: 0.6494 - val_loss: 0.6575\n",
            "Epoch 62/100\n",
            "\u001b[1m62/62\u001b[0m \u001b[32m━━━━━━━━━━━━━━━━━━━━\u001b[0m\u001b[37m\u001b[0m \u001b[1m0s\u001b[0m 2ms/step - accuracy: 0.7476 - loss: 0.5177 - val_accuracy: 0.7143 - val_loss: 0.5733\n",
            "Epoch 63/100\n",
            "\u001b[1m62/62\u001b[0m \u001b[32m━━━━━━━━━━━━━━━━━━━━\u001b[0m\u001b[37m\u001b[0m \u001b[1m0s\u001b[0m 2ms/step - accuracy: 0.7378 - loss: 0.5155 - val_accuracy: 0.7143 - val_loss: 0.5964\n",
            "Epoch 64/100\n",
            "\u001b[1m62/62\u001b[0m \u001b[32m━━━━━━━━━━━━━━━━━━━━\u001b[0m\u001b[37m\u001b[0m \u001b[1m0s\u001b[0m 2ms/step - accuracy: 0.7541 - loss: 0.5144 - val_accuracy: 0.7273 - val_loss: 0.5756\n",
            "Epoch 65/100\n",
            "\u001b[1m62/62\u001b[0m \u001b[32m━━━━━━━━━━━━━━━━━━━━\u001b[0m\u001b[37m\u001b[0m \u001b[1m0s\u001b[0m 2ms/step - accuracy: 0.7557 - loss: 0.5061 - val_accuracy: 0.6883 - val_loss: 0.6010\n",
            "Epoch 66/100\n",
            "\u001b[1m62/62\u001b[0m \u001b[32m━━━━━━━━━━━━━━━━━━━━\u001b[0m\u001b[37m\u001b[0m \u001b[1m0s\u001b[0m 2ms/step - accuracy: 0.7476 - loss: 0.5144 - val_accuracy: 0.7338 - val_loss: 0.5718\n",
            "Epoch 67/100\n",
            "\u001b[1m62/62\u001b[0m \u001b[32m━━━━━━━━━━━━━━━━━━━━\u001b[0m\u001b[37m\u001b[0m \u001b[1m0s\u001b[0m 2ms/step - accuracy: 0.7573 - loss: 0.5046 - val_accuracy: 0.7468 - val_loss: 0.5789\n",
            "Epoch 68/100\n",
            "\u001b[1m62/62\u001b[0m \u001b[32m━━━━━━━━━━━━━━━━━━━━\u001b[0m\u001b[37m\u001b[0m \u001b[1m0s\u001b[0m 2ms/step - accuracy: 0.7524 - loss: 0.5116 - val_accuracy: 0.7273 - val_loss: 0.5763\n",
            "Epoch 69/100\n",
            "\u001b[1m62/62\u001b[0m \u001b[32m━━━━━━━━━━━━━━━━━━━━\u001b[0m\u001b[37m\u001b[0m \u001b[1m0s\u001b[0m 2ms/step - accuracy: 0.7622 - loss: 0.5124 - val_accuracy: 0.7468 - val_loss: 0.5771\n",
            "Epoch 70/100\n",
            "\u001b[1m62/62\u001b[0m \u001b[32m━━━━━━━━━━━━━━━━━━━━\u001b[0m\u001b[37m\u001b[0m \u001b[1m0s\u001b[0m 2ms/step - accuracy: 0.7573 - loss: 0.5070 - val_accuracy: 0.7208 - val_loss: 0.5841\n",
            "Epoch 71/100\n",
            "\u001b[1m62/62\u001b[0m \u001b[32m━━━━━━━━━━━━━━━━━━━━\u001b[0m\u001b[37m\u001b[0m \u001b[1m0s\u001b[0m 2ms/step - accuracy: 0.7622 - loss: 0.4944 - val_accuracy: 0.7468 - val_loss: 0.5804\n",
            "Epoch 72/100\n",
            "\u001b[1m62/62\u001b[0m \u001b[32m━━━━━━━━━━━━━━━━━━━━\u001b[0m\u001b[37m\u001b[0m \u001b[1m0s\u001b[0m 2ms/step - accuracy: 0.7459 - loss: 0.5136 - val_accuracy: 0.7078 - val_loss: 0.5826\n",
            "Epoch 73/100\n",
            "\u001b[1m62/62\u001b[0m \u001b[32m━━━━━━━━━━━━━━━━━━━━\u001b[0m\u001b[37m\u001b[0m \u001b[1m0s\u001b[0m 2ms/step - accuracy: 0.7508 - loss: 0.5127 - val_accuracy: 0.7532 - val_loss: 0.5863\n",
            "Epoch 74/100\n",
            "\u001b[1m62/62\u001b[0m \u001b[32m━━━━━━━━━━━━━━━━━━━━\u001b[0m\u001b[37m\u001b[0m \u001b[1m0s\u001b[0m 2ms/step - accuracy: 0.7524 - loss: 0.4998 - val_accuracy: 0.6948 - val_loss: 0.6481\n",
            "Epoch 75/100\n",
            "\u001b[1m62/62\u001b[0m \u001b[32m━━━━━━━━━━━━━━━━━━━━\u001b[0m\u001b[37m\u001b[0m \u001b[1m0s\u001b[0m 2ms/step - accuracy: 0.7443 - loss: 0.5057 - val_accuracy: 0.7273 - val_loss: 0.5923\n",
            "Epoch 76/100\n",
            "\u001b[1m62/62\u001b[0m \u001b[32m━━━━━━━━━━━━━━━━━━━━\u001b[0m\u001b[37m\u001b[0m \u001b[1m0s\u001b[0m 2ms/step - accuracy: 0.7557 - loss: 0.4989 - val_accuracy: 0.7338 - val_loss: 0.6337\n",
            "Epoch 77/100\n",
            "\u001b[1m62/62\u001b[0m \u001b[32m━━━━━━━━━━━━━━━━━━━━\u001b[0m\u001b[37m\u001b[0m \u001b[1m0s\u001b[0m 2ms/step - accuracy: 0.7671 - loss: 0.5111 - val_accuracy: 0.7403 - val_loss: 0.5924\n",
            "Epoch 78/100\n",
            "\u001b[1m62/62\u001b[0m \u001b[32m━━━━━━━━━━━━━━━━━━━━\u001b[0m\u001b[37m\u001b[0m \u001b[1m0s\u001b[0m 2ms/step - accuracy: 0.7638 - loss: 0.5060 - val_accuracy: 0.7208 - val_loss: 0.5820\n",
            "Epoch 79/100\n",
            "\u001b[1m62/62\u001b[0m \u001b[32m━━━━━━━━━━━━━━━━━━━━\u001b[0m\u001b[37m\u001b[0m \u001b[1m0s\u001b[0m 2ms/step - accuracy: 0.7280 - loss: 0.5177 - val_accuracy: 0.7532 - val_loss: 0.5725\n",
            "Epoch 80/100\n",
            "\u001b[1m62/62\u001b[0m \u001b[32m━━━━━━━━━━━━━━━━━━━━\u001b[0m\u001b[37m\u001b[0m \u001b[1m0s\u001b[0m 2ms/step - accuracy: 0.7508 - loss: 0.4965 - val_accuracy: 0.7403 - val_loss: 0.5829\n",
            "Epoch 81/100\n",
            "\u001b[1m62/62\u001b[0m \u001b[32m━━━━━━━━━━━━━━━━━━━━\u001b[0m\u001b[37m\u001b[0m \u001b[1m0s\u001b[0m 2ms/step - accuracy: 0.7508 - loss: 0.5072 - val_accuracy: 0.7468 - val_loss: 0.5730\n",
            "Epoch 82/100\n",
            "\u001b[1m62/62\u001b[0m \u001b[32m━━━━━━━━━━━━━━━━━━━━\u001b[0m\u001b[37m\u001b[0m \u001b[1m0s\u001b[0m 2ms/step - accuracy: 0.7655 - loss: 0.5095 - val_accuracy: 0.7208 - val_loss: 0.5999\n",
            "Epoch 83/100\n",
            "\u001b[1m62/62\u001b[0m \u001b[32m━━━━━━━━━━━━━━━━━━━━\u001b[0m\u001b[37m\u001b[0m \u001b[1m0s\u001b[0m 2ms/step - accuracy: 0.7557 - loss: 0.5070 - val_accuracy: 0.7338 - val_loss: 0.5911\n",
            "Epoch 84/100\n",
            "\u001b[1m62/62\u001b[0m \u001b[32m━━━━━━━━━━━━━━━━━━━━\u001b[0m\u001b[37m\u001b[0m \u001b[1m0s\u001b[0m 2ms/step - accuracy: 0.7443 - loss: 0.5018 - val_accuracy: 0.6883 - val_loss: 0.7217\n",
            "Epoch 85/100\n",
            "\u001b[1m62/62\u001b[0m \u001b[32m━━━━━━━━━━━━━━━━━━━━\u001b[0m\u001b[37m\u001b[0m \u001b[1m0s\u001b[0m 2ms/step - accuracy: 0.7427 - loss: 0.5163 - val_accuracy: 0.7338 - val_loss: 0.5764\n",
            "Epoch 86/100\n",
            "\u001b[1m62/62\u001b[0m \u001b[32m━━━━━━━━━━━━━━━━━━━━\u001b[0m\u001b[37m\u001b[0m \u001b[1m0s\u001b[0m 2ms/step - accuracy: 0.7687 - loss: 0.4972 - val_accuracy: 0.7403 - val_loss: 0.5940\n",
            "Epoch 87/100\n",
            "\u001b[1m62/62\u001b[0m \u001b[32m━━━━━━━━━━━━━━━━━━━━\u001b[0m\u001b[37m\u001b[0m \u001b[1m0s\u001b[0m 2ms/step - accuracy: 0.7606 - loss: 0.4856 - val_accuracy: 0.7078 - val_loss: 0.6078\n",
            "Epoch 88/100\n",
            "\u001b[1m62/62\u001b[0m \u001b[32m━━━━━━━━━━━━━━━━━━━━\u001b[0m\u001b[37m\u001b[0m \u001b[1m0s\u001b[0m 3ms/step - accuracy: 0.7655 - loss: 0.4994 - val_accuracy: 0.7468 - val_loss: 0.5794\n",
            "Epoch 89/100\n",
            "\u001b[1m62/62\u001b[0m \u001b[32m━━━━━━━━━━━━━━━━━━━━\u001b[0m\u001b[37m\u001b[0m \u001b[1m0s\u001b[0m 2ms/step - accuracy: 0.7655 - loss: 0.4934 - val_accuracy: 0.7403 - val_loss: 0.5857\n",
            "Epoch 90/100\n",
            "\u001b[1m62/62\u001b[0m \u001b[32m━━━━━━━━━━━━━━━━━━━━\u001b[0m\u001b[37m\u001b[0m \u001b[1m0s\u001b[0m 2ms/step - accuracy: 0.7801 - loss: 0.4894 - val_accuracy: 0.7078 - val_loss: 0.5934\n",
            "Epoch 91/100\n",
            "\u001b[1m62/62\u001b[0m \u001b[32m━━━━━━━━━━━━━━━━━━━━\u001b[0m\u001b[37m\u001b[0m \u001b[1m0s\u001b[0m 2ms/step - accuracy: 0.7736 - loss: 0.4893 - val_accuracy: 0.7273 - val_loss: 0.5967\n",
            "Epoch 92/100\n",
            "\u001b[1m62/62\u001b[0m \u001b[32m━━━━━━━━━━━━━━━━━━━━\u001b[0m\u001b[37m\u001b[0m \u001b[1m0s\u001b[0m 2ms/step - accuracy: 0.7622 - loss: 0.4852 - val_accuracy: 0.7468 - val_loss: 0.6009\n",
            "Epoch 93/100\n",
            "\u001b[1m62/62\u001b[0m \u001b[32m━━━━━━━━━━━━━━━━━━━━\u001b[0m\u001b[37m\u001b[0m \u001b[1m0s\u001b[0m 2ms/step - accuracy: 0.7362 - loss: 0.5012 - val_accuracy: 0.7208 - val_loss: 0.6168\n",
            "Epoch 94/100\n",
            "\u001b[1m62/62\u001b[0m \u001b[32m━━━━━━━━━━━━━━━━━━━━\u001b[0m\u001b[37m\u001b[0m \u001b[1m0s\u001b[0m 3ms/step - accuracy: 0.7622 - loss: 0.4900 - val_accuracy: 0.7338 - val_loss: 0.5939\n",
            "Epoch 95/100\n",
            "\u001b[1m62/62\u001b[0m \u001b[32m━━━━━━━━━━━━━━━━━━━━\u001b[0m\u001b[37m\u001b[0m \u001b[1m0s\u001b[0m 3ms/step - accuracy: 0.7573 - loss: 0.4933 - val_accuracy: 0.7532 - val_loss: 0.5798\n",
            "Epoch 96/100\n",
            "\u001b[1m62/62\u001b[0m \u001b[32m━━━━━━━━━━━━━━━━━━━━\u001b[0m\u001b[37m\u001b[0m \u001b[1m0s\u001b[0m 2ms/step - accuracy: 0.7622 - loss: 0.4920 - val_accuracy: 0.7208 - val_loss: 0.6139\n",
            "Epoch 97/100\n",
            "\u001b[1m62/62\u001b[0m \u001b[32m━━━━━━━━━━━━━━━━━━━━\u001b[0m\u001b[37m\u001b[0m \u001b[1m0s\u001b[0m 2ms/step - accuracy: 0.7687 - loss: 0.4848 - val_accuracy: 0.7078 - val_loss: 0.6233\n",
            "Epoch 98/100\n",
            "\u001b[1m62/62\u001b[0m \u001b[32m━━━━━━━━━━━━━━━━━━━━\u001b[0m\u001b[37m\u001b[0m \u001b[1m0s\u001b[0m 3ms/step - accuracy: 0.7704 - loss: 0.4855 - val_accuracy: 0.7662 - val_loss: 0.5788\n",
            "Epoch 99/100\n",
            "\u001b[1m62/62\u001b[0m \u001b[32m━━━━━━━━━━━━━━━━━━━━\u001b[0m\u001b[37m\u001b[0m \u001b[1m0s\u001b[0m 3ms/step - accuracy: 0.7655 - loss: 0.4789 - val_accuracy: 0.7597 - val_loss: 0.5829\n",
            "Epoch 100/100\n",
            "\u001b[1m62/62\u001b[0m \u001b[32m━━━━━━━━━━━━━━━━━━━━\u001b[0m\u001b[37m\u001b[0m \u001b[1m0s\u001b[0m 3ms/step - accuracy: 0.7671 - loss: 0.4726 - val_accuracy: 0.7403 - val_loss: 0.6000\n",
            "Acurácia no conjunto de teste: 0.74\n"
          ]
        }
      ],
      "source": [
        "# Treinar modelo\n",
        "historico = modelo.fit(\n",
        "    X_train, Y_train,\n",
        "    epochs=100,          # número de épocas\n",
        "    batch_size=10,       # tamanho do batch\n",
        "    validation_data=(X_test, Y_test),  # validação durante o treino\n",
        "    verbose=1\n",
        ")\n",
        "\n",
        "# Avaliar modelo no conjunto de teste\n",
        "loss, acc = modelo.evaluate(X_test, Y_test, verbose=0)\n",
        "print(f\"Acurácia no conjunto de teste: {acc:.2f}\")\n"
      ]
    },
    {
      "cell_type": "markdown",
      "metadata": {
        "id": "3kkl8oDSKM1W"
      },
      "source": [
        "---\n",
        "Avalie a precisão usando o comando `model.evaluate()`"
      ]
    },
    {
      "cell_type": "code",
      "execution_count": 9,
      "metadata": {
        "id": "FlT5Vst5h16C"
      },
      "outputs": [
        {
          "name": "stdout",
          "output_type": "stream",
          "text": [
            "Perda no teste: 0.6000\n",
            "Acurácia no conjunto de teste: 0.7403\n"
          ]
        }
      ],
      "source": [
        "# Avaliar modelo no conjunto de teste\n",
        "loss, acc = modelo.evaluate(X_test, Y_test, verbose=0)\n",
        "print(f\"Perda no teste: {loss:.4f}\")\n",
        "print(f\"Acurácia no conjunto de teste: {acc:.4f}\")"
      ]
    },
    {
      "cell_type": "markdown",
      "metadata": {
        "id": "Src3EIRsKbiE"
      },
      "source": [
        "Como ficou o resultado? Será que dá pra melhorar?"
      ]
    },
    {
      "cell_type": "markdown",
      "metadata": {},
      "source": [
        "- O resultado está razoável, mas para algo relacionado à medicina (como previsão de diabetes), o mais viável é a acurácia estar acima de 80-85%.\n",
        "- Pode sim melhorar, talvez com uma quantidade maior de dados ou um maior teste de neurônios ou mais camadas."
      ]
    },
    {
      "cell_type": "markdown",
      "metadata": {
        "id": "TQJQQgk4rHYc"
      },
      "source": [
        "---\n",
        "Crie uma pessoa imaginária com um vetor, por exemplo, na forma `np.array([[2,148,72,35,0,33.6,0.627,25]])` e use o comando `model.predict()` para verificar se essa pessoa é classificada com ou sem diabetes."
      ]
    },
    {
      "cell_type": "code",
      "execution_count": 10,
      "metadata": {
        "id": "BtqHcIgEkn0l"
      },
      "outputs": [
        {
          "name": "stdout",
          "output_type": "stream",
          "text": [
            "\u001b[1m1/1\u001b[0m \u001b[32m━━━━━━━━━━━━━━━━━━━━\u001b[0m\u001b[37m\u001b[0m \u001b[1m0s\u001b[0m 61ms/step\n",
            "Probabilidade de ter diabetes: 0.6112189\n",
            "Classificação final: 1\n"
          ]
        }
      ],
      "source": [
        "# Pessoa imaginária (valores seguem a ordem das features do dataset)\n",
        "# Pregnancies, Glucose, BloodPressure, SkinThickness, Insulin, BMI, DiabetesPedigreeFunction, Age\n",
        "pessoa = np.array([[2, 148, 72, 35, 0, 33.6, 0.627, 25]])\n",
        "\n",
        "# Fazer a predição\n",
        "predicao = modelo.predict(pessoa)\n",
        "\n",
        "print(\"Probabilidade de ter diabetes:\", predicao[0][0])\n",
        "\n",
        "# Classificação final (0 = sem diabetes, 1 = com diabetes)\n",
        "classe = 1 if predicao[0][0] >= 0.5 else 0\n",
        "print(\"Classificação final:\", classe)\n"
      ]
    }
  ],
  "metadata": {
    "colab": {
      "provenance": []
    },
    "kernelspec": {
      "display_name": "Atividades",
      "language": "python",
      "name": "python3"
    },
    "language_info": {
      "codemirror_mode": {
        "name": "ipython",
        "version": 3
      },
      "file_extension": ".py",
      "mimetype": "text/x-python",
      "name": "python",
      "nbconvert_exporter": "python",
      "pygments_lexer": "ipython3",
      "version": "3.13.7"
    }
  },
  "nbformat": 4,
  "nbformat_minor": 0
}

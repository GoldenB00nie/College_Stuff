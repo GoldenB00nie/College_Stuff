{
 "cells": [
  {
   "cell_type": "code",
   "execution_count": 34,
   "id": "d39ac8fc",
   "metadata": {},
   "outputs": [],
   "source": [
    "#Importar bibliotecas\n",
    "import pandas as pd\n",
    "\n",
    "#Importar Dataset\n",
    "database = pd.read_csv('diabetes.csv')\n",
    "\n",
    "#Selecionar as variáveis ​​preditoras e a variável de resposta\n",
    "X = database[['Glucose','BloodPressure','Insulin']]\n",
    "y = database['Outcome']\n",
    "\n",
    "#Dividir em conjunto de treinamento e conjunto de teste\n",
    "from sklearn.model_selection import train_test_split\n",
    "X_train, X_test, y_train, y_test = train_test_split(X, y, shuffle=False, test_size=0.3)"
   ]
  },
  {
   "cell_type": "code",
   "execution_count": 36,
   "id": "33d93d97",
   "metadata": {},
   "outputs": [
    {
     "name": "stdout",
     "output_type": "stream",
     "text": [
      "Model accuracy: 0.7705627705627706\n",
      "[0]\n"
     ]
    },
    {
     "name": "stderr",
     "output_type": "stream",
     "text": [
      "c:\\Users\\guilh\\Documents\\College_Stuff\\Inteligencia artificial\\Atividades\\Lib\\site-packages\\sklearn\\utils\\validation.py:2749: UserWarning: X does not have valid feature names, but KNeighborsClassifier was fitted with feature names\n",
      "  warnings.warn(\n"
     ]
    }
   ],
   "source": [
    "#Crie o modelo KNN para variável de resposta categórica\n",
    "from sklearn.neighbors import KNeighborsClassifier\n",
    "KNNmodel = KNeighborsClassifier(n_neighbors=30)\n",
    "\n",
    "#Treinar o modelo KNN para a variável de resposta categórica\n",
    "KNNmodel.fit(X_train,y_train)\n",
    "\n",
    "#Faça uma previsão usando o modelo KNN para variável de resposta categórica\n",
    "y_pred_KNN = KNNmodel.predict(X_test)\n",
    "\n",
    "#Avalie o desempenho do modelo KNN para variável de resposta categórica\n",
    "from sklearn.metrics import accuracy_score\n",
    "accuracy_KNN = accuracy_score(y_test, y_pred_KNN)\n",
    "print(f'Model accuracy: {accuracy_KNN}')\n",
    "\n",
    "#Previsão de novos valores usando o modelo KNN para variável de resposta categórica\n",
    "import numpy as np\n",
    "X_new_KNN = np.array([[80, 17, 100]])\n",
    "y_new_pred_KNN = KNNmodel.predict(X_new_KNN)\n",
    "print(y_new_pred_KNN)\n"
   ]
  }
 ],
 "metadata": {
  "kernelspec": {
   "display_name": "Atividades",
   "language": "python",
   "name": "python3"
  },
  "language_info": {
   "codemirror_mode": {
    "name": "ipython",
    "version": 3
   },
   "file_extension": ".py",
   "mimetype": "text/x-python",
   "name": "python",
   "nbconvert_exporter": "python",
   "pygments_lexer": "ipython3",
   "version": "3.13.7"
  }
 },
 "nbformat": 4,
 "nbformat_minor": 5
}

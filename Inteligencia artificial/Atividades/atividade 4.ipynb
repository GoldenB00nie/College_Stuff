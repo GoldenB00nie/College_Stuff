{
 "cells": [
  {
   "cell_type": "code",
   "execution_count": null,
   "id": "53eda1ad",
   "metadata": {},
   "outputs": [],
   "source": [
    "# 1)\n",
    "\n",
    "# Importar Librerias\n",
    "import pandas as pd\n",
    "import numpy as np\n",
    "from sklearn.model_selection import train_test_split, GridSearchCV\n",
    "from sklearn.preprocessing import StandardScaler\n",
    "from sklearn.impute import SimpleImputer\n",
    "from sklearn.ensemble import RandomForestClassifier\n",
    "from sklearn.tree import DecisionTreeClassifier\n",
    "from sklearn.metrics import accuracy_score\n",
    "from sklearn.pipeline import Pipeline\n",
    "from sklearn.metrics import classification_report, confusion_matrix, ConfusionMatrixDisplay\n",
    "import matplotlib.pyplot as plt\n",
    "\n",
    "#Importar Dataset\n",
    "database = pd.read_csv('diabetes.csv')\n",
    "\n",
    "# Usar TODAS as features, não apenas três. O modelo deve decidir o que é importante.\n",
    "X = database.drop('Outcome', axis=1)\n",
    "y = database['Outcome']\n",
    "\n",
    "# Problema crítico neste dataset: valores '0' em colunas onde isso é impossível\n",
    "# (ex: pressão sanguínea, glicose, IMC). Eles são, na verdade, dados ausentes.\n",
    "# Vamos substituí-los por NaN (Not a Number) para que possamos tratá-los.\n",
    "cols_with_zeros = ['Glucose', 'BloodPressure', 'SkinThickness', 'Insulin', 'BMI']\n",
    "X[cols_with_zeros] = X[cols_with_zeros].replace(0, np.nan)\n",
    "\n",
    "#Dividir em conjunto de treinamento e conjunto de teste\n",
    "from sklearn.model_selection import train_test_split\n",
    "\n",
    "# Dividir os dados. shuffle=True é crucial.\n",
    "# stratify=y garante que a proporção de diabéticos/não-diabéticos seja a mesma nos conjuntos de treino e teste.\n",
    "X_train, X_test, y_train, y_test = train_test_split(X, y, test_size=0.2, shuffle=True, stratify=y, random_state=42)"
   ]
  },
  {
   "cell_type": "code",
   "execution_count": null,
   "id": "69c90b8e",
   "metadata": {},
   "outputs": [
    {
     "name": "stdout",
     "output_type": "stream",
     "text": [
      "Fitting 5 folds for each of 18 candidates, totalling 90 fits\n",
      "Best hyperparameters: {'classifier__max_depth': 10, 'classifier__min_samples_leaf': 4, 'classifier__n_estimators': 100}\n"
     ]
    }
   ],
   "source": [
    "# RandomForestClassifier é um \"ensemble\" de árvores de decisão.\n",
    "# Ele é mais robusto, menos propenso a overfitting e geralmente mais preciso.\n",
    "model = RandomForestClassifier(random_state=42)\n",
    "\n",
    "# Um Pipeline automatiza e organiza as etapas de transformação dos dados\n",
    "# Criamos as etapas do nosso pipeline:\n",
    "# 1. 'imputer': Preenche os valores NaN (os zeros que substituímos) com a média da coluna.\n",
    "# 2. 'scaler': Padroniza as features para que tenham média 0 e desvio padrão 1.\n",
    "# 3. 'classifier': O nosso modelo de classificação.\n",
    "full_pipeline = Pipeline(steps=[\n",
    "    ('imputer', SimpleImputer(strategy='mean')),\n",
    "    ('scaler', StandardScaler()),\n",
    "    ('classifier', model)\n",
    "])\n",
    "\n",
    "# Defina o grid de parâmetros para pesquisar\n",
    "param_grid = {\n",
    "    'classifier__n_estimators': [100, 150],\n",
    "    'classifier__max_depth': [5, 10, None],\n",
    "    'classifier__min_samples_leaf': [1, 2, 4]\n",
    "}\n",
    "\n",
    " # Executar pesquisa em grade com cross validation\n",
    "grid_search = GridSearchCV(full_pipeline, param_grid, cv=5, scoring='accuracy', n_jobs=-1, verbose=1)\n",
    "grid_search.fit(X_train, y_train)\n",
    "\n",
    " # Melhor combinação de parâmetros\n",
    "print(f'Best hyperparameters: {grid_search.best_params_}')"
   ]
  },
  {
   "cell_type": "code",
   "execution_count": null,
   "id": "005f54df",
   "metadata": {},
   "outputs": [
    {
     "name": "stdout",
     "output_type": "stream",
     "text": [
      "Model accuracy: 0.7402597402597403\n"
     ]
    }
   ],
   "source": [
    "# Aplique os melhores parâmetros ao modelo final da Árvore de Decisão\n",
    "DTmodel = grid_search.best_estimator_\n",
    "\n",
    " # Treine o modelo de árvore de decisão com os melhores parâmetros\n",
    "DTmodel.fit(X_train, y_train)\n",
    "\n",
    " # Faça previsões usando o modelo de árvore de decisão\n",
    "y_pred_DT = DTmodel.predict(X_test)\n",
    "\n",
    " # Avalie o desempenho do modelo de árvore de decisão\n",
    "accuracyDT = accuracy_score(y_test, y_pred_DT)\n",
    "print(f'Acurácia do modelo: {accuracyDT}')"
   ]
  },
  {
   "cell_type": "code",
   "execution_count": null,
   "id": "40d7ee9f",
   "metadata": {},
   "outputs": [
    {
     "name": "stdout",
     "output_type": "stream",
     "text": [
      "--- Matriz de Confusão ---\n"
     ]
    },
    {
     "data": {
      "image/png": "[encoded data removed]",
      "text/plain": [
       "<Figure size 640x480 with 2 Axes>"
      ]
     },
     "metadata": {},
     "output_type": "display_data"
    }
   ],
   "source": [
    "# O grid_search já treina o melhor modelo com todos os dados de treino.\n",
    "best_model = grid_search.best_estimator_\n",
    "y_pred = best_model.predict(X_test)\n",
    "\n",
    "# A Matriz de Confusão nos mostra exatamente onde o modelo acertou e errou.\n",
    "print(\"--- Matriz de Confusão ---\")\n",
    "cm = confusion_matrix(y_test, y_pred)\n",
    "disp = ConfusionMatrixDisplay(confusion_matrix=cm, display_labels=['Não Diabético', 'Diabético'])\n",
    "disp.plot(cmap=plt.cm.Blues)\n",
    "plt.show()"
   ]
  },
  {
   "cell_type": "code",
   "execution_count": null,
   "id": "f367feb1",
   "metadata": {},
   "outputs": [
    {
     "name": "stdout",
     "output_type": "stream",
     "text": [
      "Iniciando a busca por hiperparâmetros...\n",
      "Fitting 5 folds for each of 20 candidates, totalling 100 fits\n",
      "\n",
      "Melhores hiperparâmetros encontrados: {'regressor__n_estimators': 200, 'regressor__min_samples_split': 2, 'regressor__min_samples_leaf': 1, 'regressor__max_features': 'log2', 'regressor__max_depth': 30}\n",
      "\n",
      "--- Resultados da Avaliação no Conjunto de Teste ---\n",
      "Erro Quadrático Médio (MSE): $2,438,280,912.22\n",
      "Raiz do Erro Quadrático Médio (RMSE): $49,378.95\n",
      "Coeficiente de Determinação (R²): 81.39%\n",
      "-----------------------------------------------------\n",
      "\n",
      "Explicação: O RMSE indica que o modelo erra, em média, cerca de $49,378.95 nas suas previsões de valor de imóveis.\n",
      "O R² de 81.39% significa que o modelo consegue explicar aproximadamente 81% da variação nos preços dos imóveis.\n"
     ]
    }
   ],
   "source": [
    "# 2)\n",
    "\n",
    "# --- 1. Importar Bibliotecas ---\n",
    "import pandas as pd\n",
    "import numpy as np\n",
    "from sklearn.model_selection import train_test_split, RandomizedSearchCV\n",
    "from sklearn.preprocessing import StandardScaler, OneHotEncoder\n",
    "from sklearn.compose import ColumnTransformer\n",
    "from sklearn.pipeline import Pipeline\n",
    "from sklearn.impute import SimpleImputer\n",
    "from sklearn.ensemble import RandomForestRegressor\n",
    "from sklearn.metrics import mean_squared_error, r2_score\n",
    "\n",
    "database = pd.read_csv('housing_prices_California.csv')\n",
    "\n",
    "# Separar o alvo (y) das features (X)\n",
    "X = database.drop('median_house_value', axis=1)\n",
    "y = database['median_house_value'].copy()\n",
    "\n",
    "# Criar novas features que podem ter maior poder preditivo\n",
    "X['rooms_per_household'] = X['total_rooms'] / X['households']\n",
    "X['bedrooms_per_room'] = X['total_bedrooms'] / X['total_rooms']\n",
    "X['population_per_household'] = X['population'] / X['households']\n",
    "\n",
    "# Identificar colunas numéricas e categóricas\n",
    "numerical_features = X.select_dtypes(include=np.number).columns.tolist()\n",
    "categorical_features = ['ocean_proximity']\n",
    "\n",
    "# Pipeline para dados numéricos:\n",
    "# 1. SimpleImputer: Preenche valores faltantes (NaN) com a mediana da coluna\n",
    "# 2. StandardScaler: Coloca todas as features na mesma escala (muito importante para muitos algoritmos)\n",
    "numerical_transformer = Pipeline(steps=[\n",
    "    ('imputer', SimpleImputer(strategy='median')),\n",
    "    ('scaler', StandardScaler())\n",
    "])\n",
    "\n",
    "# Pipeline para dados categóricos:\n",
    "# 1. OneHotEncoder: Transforma a coluna de texto 'ocean_proximity' em colunas numéricas (0s e 1s)\n",
    "categorical_transformer = Pipeline(steps=[\n",
    "    ('onehot', OneHotEncoder(handle_unknown='ignore'))\n",
    "])\n",
    "\n",
    "# Combinar os pipelines de pré-processamento para os diferentes tipos de colunas\n",
    "preprocessor = ColumnTransformer(\n",
    "    transformers=[\n",
    "        ('num', numerical_transformer, numerical_features),\n",
    "        ('cat', categorical_transformer, categorical_features)\n",
    "    ])\n",
    "\n",
    "# --- 5. Escolha do Modelo e Separação dos Dados ---\n",
    "# RandomForestRegressor é uma excelente alternativa ao SVR: mais rápido para treinar e muitas vezes mais preciso.\n",
    "model = RandomForestRegressor(random_state=42)\n",
    "\n",
    "# Combinar pré-processador e modelo em um único pipeline final\n",
    "full_pipeline = Pipeline(steps=[('preprocessor', preprocessor),\n",
    "                                ('regressor', model)])\n",
    "\n",
    "# Dividir os dados em treino e teste. shuffle=True é essencial para garantir amostras representativas.\n",
    "X_train, X_test, y_train, y_test = train_test_split(X, y, test_size=0.2, shuffle=True, random_state=42)\n",
    "\n",
    "# RandomizedSearchCV é mais rápido que GridSearchCV e encontra ótimos resultados.\n",
    "\n",
    "# Definir a grade de parâmetros para a busca\n",
    "# Usamos notações como 'regressor__n_estimators' para acessar os parâmetros do modelo dentro do pipeline\n",
    "param_dist = {\n",
    "    'regressor__n_estimators': [100, 200, 300],\n",
    "    'regressor__max_features': ['sqrt', 'log2'],\n",
    "    'regressor__max_depth': [None, 10, 20, 30],\n",
    "    'regressor__min_samples_split': [2, 5, 10],\n",
    "    'regressor__min_samples_leaf': [1, 2, 4]\n",
    "}\n",
    "\n",
    "# n_iter: número de combinações a testar. cv: número de folds na validação cruzada.\n",
    "# n_jobs=-1: usa todos os processadores do seu computador.\n",
    "random_search = RandomizedSearchCV(full_pipeline, param_distributions=param_dist, n_iter=20, cv=5,\n",
    "                                   scoring='neg_mean_squared_error', n_jobs=-1, random_state=42, verbose=1)\n",
    "\n",
    "print(\"Iniciando a busca por hiperparâmetros...\")\n",
    "random_search.fit(X_train, y_train)\n",
    "\n",
    "print(f\"\\nMelhores hiperparâmetros encontrados: {random_search.best_params_}\")\n",
    "\n",
    "# Usar o melhor modelo encontrado pela busca\n",
    "best_model = random_search.best_estimator_\n",
    "\n",
    "# Fazer previsões no conjunto de teste\n",
    "y_pred = best_model.predict(X_test)\n",
    "\n",
    "# Calcular métricas de avaliação\n",
    "mse = mean_squared_error(y_test, y_pred)\n",
    "rmse = np.sqrt(mse)\n",
    "r2 = r2_score(y_test, y_pred)\n",
    "\n",
    "print(\"\\n--- Resultados da Avaliação no Conjunto de Teste ---\")\n",
    "print(f\"Erro Quadrático Médio (MSE): ${mse:,.2f}\")\n",
    "print(f\"Raiz do Erro Quadrático Médio (RMSE): ${rmse:,.2f}\")\n",
    "print(f\"Coeficiente de Determinação (R²): {r2:.2%}\")\n",
    "print(\"-----------------------------------------------------\")\n",
    "print(f\"\\nExplicação: O RMSE indica que o modelo erra, em média, cerca de ${rmse:,.2f} nas suas previsões de valor de imóveis.\")\n",
    "print(f\"O R² de {r2:.2%} significa que o modelo consegue explicar aproximadamente {r2:.0%} da variação nos preços dos imóveis.\")"
   ]
  }
 ],
 "metadata": {
  "kernelspec": {
   "display_name": "Atividades",
   "language": "python",
   "name": "python3"
  },
  "language_info": {
   "codemirror_mode": {
    "name": "ipython",
    "version": 3
   },
   "file_extension": ".py",
   "mimetype": "text/x-python",
   "name": "python",
   "nbconvert_exporter": "python",
   "pygments_lexer": "ipython3",
   "version": "3.13.7"
  }
 },
 "nbformat": 4,
 "nbformat_minor": 5
}
